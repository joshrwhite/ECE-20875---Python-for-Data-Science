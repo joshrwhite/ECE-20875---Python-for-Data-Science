{
 "cells": [
  {
   "cell_type": "code",
   "execution_count": 108,
   "metadata": {},
   "outputs": [
    {
     "name": "stdout",
     "output_type": "stream",
     "text": [
      "---1.1--- \n",
      "A z-test can be used.  \n",
      "Null Hypothesis: The mean is 0.75\n",
      "Alternative Hypothesis: The mean is not 0.75\n",
      "\n",
      "---1.2---\n",
      "Sample Size: 937\n",
      "Sample Mean: 0.7430304110448239\n",
      "Standard Error: 0.004153027288269652\n",
      "Standard Score: -1.6781948375012814\n",
      "P-value: 0.09330906925243751\n"
     ]
    }
   ],
   "source": [
    "import numpy as np\n",
    "import math\n",
    "import scipy.stats as sp\n",
    "\n",
    "s = '---1.1--- \\nA z-test can be used.  \\nNull Hypothesis: The mean is 0.75\\n'\n",
    "s+= 'Alternative Hypothesis: The mean is not 0.75\\n'\n",
    "print(s)\n",
    "\n",
    "hypothesis = 0.75\n",
    "\n",
    "with open('eng1.txt', \"r\") as f:\n",
    "    fin = f.readlines()\n",
    "data = [float(x) for x in fin]\n",
    "\n",
    "N = len(data)\n",
    "avg = np.mean(data)\n",
    "sd = np.std(data, ddof=1)\n",
    "\n",
    "se = (sd / math.sqrt(N))\n",
    "z = (avg - hypothesis) / se\n",
    "\n",
    "print('---1.2---')\n",
    "p = 2 * sp.norm.cdf(z)\n",
    "print(f'Sample Size: {N}\\nSample Mean: {avg}\\nStandard Error: {se}\\n', end='')\n",
    "print(f'Standard Score: {z}\\nP-value: {p}\\n', end='')"
   ]
  },
  {
   "cell_type": "code",
   "execution_count": 111,
   "metadata": {},
   "outputs": [
    {
     "name": "stdout",
     "output_type": "stream",
     "text": [
      "--1.2 cont.---\n",
      "The results are significant at a level of 0.1, \n",
      "but not at levels of 0.05 or 0.01.\n",
      "\n",
      "We can conclude that the null hypothesis is reasonably accurate, \n",
      "but we cannot conclude if it is accurate enough.\n"
     ]
    }
   ],
   "source": [
    "print('--1.2 cont.---')\n",
    "print('The results are significant at a level of 0.1, \\nbut not at levels of 0.05 or 0.01.\\n')\n",
    "print('We can conclude that the null hypothesis is reasonably accurate, \\nbut we cannot conclude if it is accurate enough.')"
   ]
  },
  {
   "cell_type": "code",
   "execution_count": 115,
   "metadata": {},
   "outputs": [
    {
     "name": "stdout",
     "output_type": "stream",
     "text": [
      "---1.3---\n",
      "Minimum SE: 0.003555978074164273\n",
      "Minimum Sample Size: 1278.0593191131147\n",
      "\n",
      "P-value using MinSE: 0.05\n",
      "The \"P-value using MinSE\" demonstrates the minimum SE is accurate.\n"
     ]
    }
   ],
   "source": [
    "import numpy as np\n",
    "import math\n",
    "import scipy.stats as sp\n",
    "with open('eng1.txt', \"r\") as f:\n",
    "    fin = f.readlines()\n",
    "ata = [float(x) for x in fin]\n",
    "N = len(data)\n",
    "avg = np.mean(data)\n",
    "sd = np.std(data, ddof=1)\n",
    "hypothesis = 0.75\n",
    "\n",
    "\n",
    "c = 0.95\n",
    "z_c = sp.norm.ppf(1-(1-c)/2)\n",
    "\n",
    "se_new = (avg - hypothesis) / z_c\n",
    "se_new = abs(se_new)\n",
    "N_new = (sd / se_new) ** 2\n",
    "\n",
    "z = (avg - hypothesis) / se_new\n",
    "p = 2 * sp.norm.cdf(z)\n",
    "N_new = (sd / se_new) ** 2\n",
    "\n",
    "print(\"---1.3---\")\n",
    "print(f'Minimum SE: {se_new}\\nMinimum Sample Size: {N_new}\\n\\nP-value using MinSE: {p}')\n",
    "print('The \"P-value using MinSE\" demonstrates the minimum SE is accurate.')"
   ]
  },
  {
   "cell_type": "code",
   "execution_count": 5,
   "metadata": {},
   "outputs": [
    {
     "name": "stdout",
     "output_type": "stream",
     "text": [
      "---1.4---\n",
      "A two-sample z=test.\n",
      "Null Hypothesis: Means of the two sets of students are the same.\n",
      "Alternative Hypothesis: Means of the two sets of students are not the same.\n",
      "\n",
      "\n",
      "---1.5---\n",
      "Sample Size 0: 1977\n",
      "Sample Size 1: 937\n",
      "Sample Mean 0: 0.6399545077035914\n",
      "Sample Mean 1: 0.7430304110448239\n",
      "Standard Error: 0.007065420910043284\n",
      "Z Score: -14.588784540028351\n",
      "P-value: 3.3104307168195455e-48\n"
     ]
    }
   ],
   "source": [
    "import numpy as np\n",
    "import math\n",
    "import scipy.stats as sp\n",
    "\n",
    "print('---1.4---')\n",
    "print('A two-sample z=test.')\n",
    "print('Null Hypothesis: Means of the two sets of students are the same.')\n",
    "print('Alternative Hypothesis: Means of the two sets of students are not the same.\\n\\n')\n",
    "\n",
    "with open('eng0.txt', \"r\") as f:\n",
    "    fin = f.readlines()\n",
    "data0 = [float(x) for x in fin]\n",
    "with open('eng1.txt', \"r\") as f:\n",
    "    fin = f.readlines()\n",
    "data1 = [float(x) for x in fin]\n",
    "N0 = len(data0)\n",
    "N1 = len(data1)\n",
    "\n",
    "avg0 = np.mean(data0)\n",
    "avg1 = np.mean(data1)\n",
    "sd0 = np.std(data0, ddof=1)\n",
    "sd1 = np.std(data1, ddof=1)\n",
    "sd = (sd0**2)/N0\n",
    "sd += (sd1**2)/N1\n",
    "sd = math.sqrt(sd)\n",
    "\n",
    "se = sd\n",
    "u = avg1 - avg0\n",
    "z = (0 - u) / se\n",
    "p = 2 * (sp.norm.cdf(z))\n",
    "\n",
    "\n",
    "print('---1.5---')\n",
    "print(f'Sample Size 0: {N0}\\nSample Size 1: {N1}\\nSample Mean 0: {avg0}\\nSample Mean 1: {avg1}')\n",
    "print(f'Standard Error: {se}\\nZ Score: {z}\\nP-value: {p}\\n', end='')"
   ]
  },
  {
   "cell_type": "code",
   "execution_count": 86,
   "metadata": {
    "collapsed": true
   },
   "outputs": [],
   "source": [
    "# --- PROBLEM 2 ---"
   ]
  },
  {
   "cell_type": "code",
   "execution_count": 7,
   "metadata": {},
   "outputs": [
    {
     "name": "stdout",
     "output_type": "stream",
     "text": [
      "---2.1---\n",
      "Sample Mean: 7.363636363636363\n",
      "Standard Error: 5.0762776757504415\n",
      "Standard Statistic: 2.2281388519649385\n",
      "Interval: (-3.9470151490654715, 18.674287876338198)\n"
     ]
    }
   ],
   "source": [
    "import numpy as np\n",
    "import math\n",
    "import scipy.stats as sp\n",
    "\n",
    "data = [3, -3, 3, 12, 15, -16, 17, 19, 23, -24, 32]\n",
    "N = len(data)\n",
    "avg = np.mean(data)\n",
    "sd = np.std(data, ddof=1)\n",
    "\n",
    "c = 0.95\n",
    "t_c = sp.t.ppf(1 - (1 - c)/2, df=N-1)\n",
    "se = sd / math.sqrt(N)\n",
    "diff = t_c * se\n",
    "u = (avg - diff, avg + diff)\n",
    "\n",
    "print('---2.1---')\n",
    "print(f'Sample Mean: {avg}\\nStandard Error: {se}\\n', end='')\n",
    "print(f'Standard Statistic: {t_c}\\nInterval: {u}')"
   ]
  },
  {
   "cell_type": "code",
   "execution_count": 13,
   "metadata": {},
   "outputs": [
    {
     "name": "stdout",
     "output_type": "stream",
     "text": [
      "---2.2---\n",
      "Sample Mean: 7.363636363636363\n",
      "Standard Error: 5.0762776757504415\n",
      "Standard Statistic: 1.8124611228107335\n",
      "Interval: (-1.8369195722533416, 16.56419229952607)\n",
      "\n",
      "The 90% confidence interval is slightly narrower than the 95% interval, and this makes sense.\n",
      "As c% decreases, we can be less and less sure that our results are accurate, approacing a range of 0.\n",
      "Therefore, a decrease in range by 4 is reasonable (range ~= 22.5 --> range ~= 18.5)\n"
     ]
    }
   ],
   "source": [
    "import numpy as np\n",
    "import math\n",
    "import scipy.stats as sp\n",
    "\n",
    "data = [3, -3, 3, 12, 15, -16, 17, 19, 23, -24, 32]\n",
    "N = len(data)\n",
    "avg = np.mean(data)\n",
    "sd = np.std(data, ddof=1)\n",
    "\n",
    "c = 0.90\n",
    "t_c = sp.t.ppf(1 - (1 - c)/2, df=N-1)\n",
    "se = sd / math.sqrt(N)\n",
    "diff = t_c * se\n",
    "u = (avg - diff, avg + diff)\n",
    "print('---2.2---')\n",
    "print(f'Sample Mean: {avg}\\nStandard Error: {se}\\n', end='')\n",
    "print(f'Standard Statistic: {t_c}\\nInterval: {u}\\n')\n",
    "\n",
    "print('The 90% confidence interval is slightly narrower than the 95% interval, and this makes sense.')\n",
    "print('As c% decreases, we can be less and less sure that our results are accurate, approacing a range of 0.')\n",
    "print('Therefore, a decrease in range by 4 is reasonable (range ~= 22.5 --> range ~= 18.5)')"
   ]
  },
  {
   "cell_type": "code",
   "execution_count": 15,
   "metadata": {},
   "outputs": [
    {
     "name": "stdout",
     "output_type": "stream",
     "text": [
      "---2.3---\n",
      "Sample Mean: 7.363636363636363\n",
      "Standard Error: 5.076244997311228\n",
      "Standard Statistic: 1.8124611228107335\n",
      "Interval: (-2.585621007795268, 17.312893735067995)\n",
      "\n",
      "The given standard deviation resulted in a lower standard error calculation than previous analyses.\n",
      "This in turn led to a confidence interval narrower than the one constructed in Problem 2 Part 1.\n"
     ]
    }
   ],
   "source": [
    "import numpy as np\n",
    "import math\n",
    "import scipy.stats as sp\n",
    "\n",
    "data = [3, -3, 3, 12, 15, -16, 17, 19, 23, -24, 32]\n",
    "N = len(data)\n",
    "avg = np.mean(data)\n",
    "sd = 16.836\n",
    "\n",
    "c = 0.95\n",
    "z_c = sp.norm.ppf(1-(1-c)/2)\n",
    "\n",
    "se = sd / math.sqrt(N)\n",
    "diff =z_c * se\n",
    "u = (avg - diff, avg + diff)\n",
    "print('---2.3---')\n",
    "print(f'Sample Mean: {avg}\\nStandard Error: {se}\\n', end='')\n",
    "print(f'Standard Statistic: {t_c}\\nInterval: {u}\\n')\n",
    "\n",
    "print('The given standard deviation resulted in a lower standard error calculation than previous analyses.')\n",
    "print('This in turn led to a confidence interval narrower than the one constructed in Problem 2 Part 1.')"
   ]
  },
  {
   "cell_type": "code",
   "execution_count": null,
   "metadata": {
    "collapsed": true
   },
   "outputs": [],
   "source": [
    "print('---2.4---')\n"
   ]
  }
 ],
 "metadata": {
  "kernelspec": {
   "display_name": "Python [default]",
   "language": "python",
   "name": "python3"
  },
  "language_info": {
   "codemirror_mode": {
    "name": "ipython",
    "version": 3
   },
   "file_extension": ".py",
   "mimetype": "text/x-python",
   "name": "python",
   "nbconvert_exporter": "python",
   "pygments_lexer": "ipython3",
   "version": "3.6.4"
  }
 },
 "nbformat": 4,
 "nbformat_minor": 2
}
